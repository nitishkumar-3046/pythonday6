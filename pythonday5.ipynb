{
 "cells": [
  {
   "cell_type": "markdown",
   "id": "ef2800a6",
   "metadata": {},
   "source": [
    "# File Handling\n",
    "- File: File is a named location or memory used to store relative information\n",
    "    - .csv,.py,.html,.txt,.ipynb,mp4\n",
    "- Filehandling:it allows user to handle files\n",
    "- Compared to other languages programming in file handling is easy in python\n",
    "- Read and write files.along with the otherfiles handle options to work on file\n",
    "- steps of the handling\n",
    "    - open file\n",
    "    - doing operations\n",
    "    - close a file\n",
    "   \n",
    "- open function()\n",
    "    - we use open fun() in python to open the file in read and write opertions\n",
    "    - To return a object we use in open function() along 2 aurgments.that aurgments and mode.whether read or write\n",
    "    - syntax::open(filename.mode)\n",
    "- Modes are 3 types to open a file\n",
    "    - read()--'r'-->to read a file\n",
    "        - file_variable.read(size)\n",
    "    - write ()--'w'-->to write a file\n",
    "        - file_variable.write(data)\n",
    "    - append()--'a'-->to add a information to a file\n",
    "        - file_variable.append(data)\n",
    "       \n",
    "- by default the file will open as 'r' mode\n",
    "- close()\n",
    "    - it is used to close a file\n",
    "    - every time you have to close a file at the end of the operation.othewise the change will not be applicable\n"
   ]
  },
  {
   "cell_type": "code",
   "execution_count": null,
   "id": "e7379241",
   "metadata": {},
   "outputs": [],
   "source": [
    "f=open(\"niti.txt\",'r')\n",
    "if f:\n",
    "    print(\"successfully opened\")\n",
    "else:\n",
    "    print(\"failed\")"
   ]
  },
  {
   "cell_type": "code",
   "execution_count": null,
   "id": "f316720c",
   "metadata": {},
   "outputs": [],
   "source": [
    "# read\n",
    "f=open(\"niti.txt\")\n",
    "print(f.read())\n",
    "f.close\n"
   ]
  },
  {
   "cell_type": "code",
   "execution_count": null,
   "id": "46a78960",
   "metadata": {},
   "outputs": [],
   "source": [
    "with open (\"niti.txt\")as f:\n",
    "    jk=f.read(5)\n",
    "    print(jk)"
   ]
  },
  {
   "cell_type": "code",
   "execution_count": null,
   "id": "0b4ee296",
   "metadata": {},
   "outputs": [],
   "source": [
    "with open(\"niti1.txt\",\"w\")as f:\n",
    "    jk=f.write(\"python programming\")\n",
    "    print(jk)\n",
    "    f.close"
   ]
  },
  {
   "cell_type": "code",
   "execution_count": null,
   "id": "5a34df24",
   "metadata": {},
   "outputs": [],
   "source": [
    "with open (\"niti1.txt\")as f:\n",
    "    jk=f.read(5)\n",
    "    print(jk)"
   ]
  },
  {
   "cell_type": "markdown",
   "id": "a7b38e85",
   "metadata": {},
   "source": [
    "### file handling method\n",
    "- open()\n",
    "- read()\n",
    "- write()\n",
    "- close()\n",
    "- readlines()\n",
    "- readline()\n",
    "- seek()\n",
    "- teli()\n",
    " \n",
    " - types of modes:\n",
    "      - read()-----'r'\n",
    "      - write()-----'w'\n",
    "      - append()-----'a'"
   ]
  },
  {
   "cell_type": "code",
   "execution_count": null,
   "id": "1b12a068",
   "metadata": {},
   "outputs": [],
   "source": [
    "f=open(\"niti.txt\")"
   ]
  },
  {
   "cell_type": "code",
   "execution_count": null,
   "id": "2e023cdb",
   "metadata": {},
   "outputs": [],
   "source": [
    "info=f.read(5)"
   ]
  },
  {
   "cell_type": "code",
   "execution_count": null,
   "id": "c713e490",
   "metadata": {},
   "outputs": [],
   "source": [
    "print(info)"
   ]
  },
  {
   "cell_type": "code",
   "execution_count": null,
   "id": "e94e3ed4",
   "metadata": {},
   "outputs": [],
   "source": [
    "k=f.read()\n",
    "print(k)"
   ]
  },
  {
   "cell_type": "code",
   "execution_count": null,
   "id": "5158c2f3",
   "metadata": {},
   "outputs": [],
   "source": [
    "f.close\n"
   ]
  },
  {
   "cell_type": "markdown",
   "id": "43ecdf76",
   "metadata": {},
   "source": [
    "# write mode\n",
    "- it is used to write something in a file\n",
    "- if file is not there in directory fill will bw created and data will be written in that file"
   ]
  },
  {
   "cell_type": "code",
   "execution_count": null,
   "id": "254b4745",
   "metadata": {},
   "outputs": [],
   "source": [
    "kj=open(\"niti.txt\",\"w\")\n"
   ]
  },
  {
   "cell_type": "code",
   "execution_count": null,
   "id": "ebb9c4fd",
   "metadata": {},
   "outputs": [],
   "source": [
    "k=kj.write(\"course is completed\")\n",
    "kj.cljose()"
   ]
  },
  {
   "cell_type": "markdown",
   "id": "79e5036b",
   "metadata": {},
   "source": [
    "### functions\n",
    "- built in functions\n",
    "   - already existed \n",
    "   - ex:print(),input(),len(),int()\n",
    "- user defined functions\n",
    "   - which are defined by the user\n",
    "   - ex:any user can create the functions\n",
    "   "
   ]
  },
  {
   "cell_type": "code",
   "execution_count": null,
   "id": "b493210b",
   "metadata": {},
   "outputs": [],
   "source": [
    "syntax for functions::\n",
    "def function_name(arguments): # function definition\n",
    "    statements\n",
    "    statements\n",
    "function_name(parameters) # function calling"
   ]
  },
  {
   "cell_type": "code",
   "execution_count": null,
   "id": "3bac4add",
   "metadata": {},
   "outputs": [],
   "source": [
    "# even or odd\n",
    "n=int(input())\n",
    "if n%2==0:\n",
    "    print(\"even number\")\n",
    "else:\n",
    "        print(\"odd\")"
   ]
  },
  {
   "cell_type": "code",
   "execution_count": null,
   "id": "4b82c5e8",
   "metadata": {},
   "outputs": [],
   "source": [
    "def even_odd(x):\n",
    "    if x%2==0:\n",
    "        print(\"even\")\n",
    "    else:\n",
    "        print(\"odd\")\n",
    "even_odd(int(input()))        \n",
    "        "
   ]
  },
  {
   "cell_type": "code",
   "execution_count": null,
   "id": "31f3c7f7",
   "metadata": {},
   "outputs": [],
   "source": [
    "def prime_check(n):\n",
    "    count=0\n",
    "    for i in range(1,n+1):\n",
    "        if n%i == 0:\n",
    "            count+=1\n",
    "    if count==2:\n",
    "        print(\"prime number\")\n",
    "    else:\n",
    "        print(\"not prime\")\n",
    "prime_check(9)\n"
   ]
  },
  {
   "cell_type": "code",
   "execution_count": null,
   "id": "dfe19f97",
   "metadata": {},
   "outputs": [],
   "source": [
    "def is_prime(n):\n",
    "    for i in range(1,n+1):\n",
    "        if n%i == 0:\n",
    "            return False\n",
    "        return True\n",
    "is_prime(int(input()))    "
   ]
  },
  {
   "cell_type": "markdown",
   "id": "cbeaa7a8",
   "metadata": {},
   "source": [
    "## comprehensions\n",
    "- it is a program of creating new sequences from existing sequence\n",
    "- advantages::less code,easy to under stand\n",
    "- types:\n",
    "    - list comprehension\n",
    "    - dictionary comprehensions\n",
    "    - set comprehensions\n",
    "    - generator comprehenions\n",
    "- list comprehension\n",
    "  - easy way to create,more efficent,and also run faster\n",
    "  - syntax::[expression for item in list if condition]\n",
    "       "
   ]
  },
  {
   "cell_type": "code",
   "execution_count": null,
   "id": "33903d69",
   "metadata": {},
   "outputs": [],
   "source": [
    "for i in range(1,11):\n",
    "    print(i,end=\" \")\n",
    "    "
   ]
  },
  {
   "cell_type": "code",
   "execution_count": 1,
   "id": "2274b855",
   "metadata": {},
   "outputs": [
    {
     "name": "stdout",
     "output_type": "stream",
     "text": [
      "[1, 2, 3, 4, 5, 6, 7, 8, 9, 10]\n"
     ]
    }
   ],
   "source": [
    "li=[]\n",
    "for i in range(1,11):\n",
    "    li.append(i)\n",
    "print(li)"
   ]
  },
  {
   "cell_type": "code",
   "execution_count": 4,
   "id": "226a3481",
   "metadata": {},
   "outputs": [
    {
     "name": "stdout",
     "output_type": "stream",
     "text": [
      "[1, 2, 3, 4, 5, 6, 7, 8, 9, 10]\n"
     ]
    }
   ],
   "source": [
    "li=[i for i in range(1,11)] # list comprehension\n",
    "print(li)"
   ]
  },
  {
   "cell_type": "code",
   "execution_count": 5,
   "id": "4dbce0e6",
   "metadata": {},
   "outputs": [
    {
     "name": "stdout",
     "output_type": "stream",
     "text": [
      "[5, 10, 15, 20, 25, 30, 35, 40, 45, 50]\n"
     ]
    }
   ],
   "source": [
    "li=[i*5 for i in range(1,11)] # list comprehension\n",
    "print(li)"
   ]
  },
  {
   "cell_type": "code",
   "execution_count": 6,
   "id": "88bf5984",
   "metadata": {},
   "outputs": [
    {
     "name": "stdout",
     "output_type": "stream",
     "text": [
      "['odd', 2, 'odd', 4, 'odd', 6, 'odd', 8, 'odd', 10]\n"
     ]
    }
   ],
   "source": [
    "li=[i if i%2==0 else \"odd\" for i in range(1,11)] # list comprehension\n",
    "print(li)"
   ]
  },
  {
   "cell_type": "code",
   "execution_count": 10,
   "id": "ca1a5d2d",
   "metadata": {},
   "outputs": [
    {
     "name": "stdout",
     "output_type": "stream",
     "text": [
      "[(1, 'odd'), (2, 'odd'), (3, 'odd'), (4, 'odd'), (5, 'odd'), (6, 'odd'), (7, 'odd'), (8, 'odd'), (9, 'odd'), (10, 'odd')]\n"
     ]
    }
   ],
   "source": [
    "print([(i,\"even\")if 1%2==0 else (i,\"odd\") for i in range(1,11)])"
   ]
  },
  {
   "cell_type": "code",
   "execution_count": 12,
   "id": "c79acae6",
   "metadata": {},
   "outputs": [
    {
     "name": "stdout",
     "output_type": "stream",
     "text": [
      "['puspha', 'pushparaj']\n"
     ]
    }
   ],
   "source": [
    "a=['puspha','pushparaj'] #list\n",
    "li=[]\n",
    "for i in a:\n",
    "    for j in i.split():\n",
    "        li.append(j)\n",
    "print(li)"
   ]
  },
  {
   "cell_type": "code",
   "execution_count": 13,
   "id": "587563e0",
   "metadata": {},
   "outputs": [
    {
     "name": "stdout",
     "output_type": "stream",
     "text": [
      "['puspha', 'pushparaj']\n"
     ]
    }
   ],
   "source": [
    "x=[j for i in a for j in i.split()]\n",
    "print(x)"
   ]
  },
  {
   "cell_type": "code",
   "execution_count": 15,
   "id": "a3db2f6a",
   "metadata": {},
   "outputs": [
    {
     "data": {
      "text/plain": [
       "[[1, 2, 3, 4, 5, 6, 7, 8, 9, 10],\n",
       " [2, 4, 6, 8, 10, 12, 14, 16, 18, 20],\n",
       " [3, 6, 9, 12, 15, 18, 21, 24, 27, 30],\n",
       " [4, 8, 12, 16, 20, 24, 28, 32, 36, 40],\n",
       " [5, 10, 15, 20, 25, 30, 35, 40, 45, 50],\n",
       " [6, 12, 18, 24, 30, 36, 42, 48, 54, 60],\n",
       " [7, 14, 21, 28, 35, 42, 49, 56, 63, 70],\n",
       " [8, 16, 24, 32, 40, 48, 56, 64, 72, 80],\n",
       " [9, 18, 27, 36, 45, 54, 63, 72, 81, 90],\n",
       " [10, 20, 30, 40, 50, 60, 70, 80, 90, 100]]"
      ]
     },
     "execution_count": 15,
     "metadata": {},
     "output_type": "execute_result"
    }
   ],
   "source": [
    "a=[[i*j for i in range (1,11)] for j in range (1,11)]\n",
    "a"
   ]
  },
  {
   "cell_type": "code",
   "execution_count": 28,
   "id": "4f7c6010",
   "metadata": {},
   "outputs": [
    {
     "name": "stdout",
     "output_type": "stream",
     "text": [
      "{'n130057': 'surya', 'n130065': 'manu', 'n130056': 'anil'}\n"
     ]
    }
   ],
   "source": [
    "# dictionary comprehension\n",
    "id_no=['n130057','n130065','n130056']\n",
    "names=['surya','manu','anil']\n",
    "c={}\n",
    "for (key,value)in zip(id_no,names):\n",
    "    c[key]=value\n",
    "print(c)"
   ]
  },
  {
   "cell_type": "code",
   "execution_count": 29,
   "id": "6da47306",
   "metadata": {},
   "outputs": [
    {
     "data": {
      "text/plain": [
       "{1: 2, 2: 4, 3: 6, 4: 8, 5: 10, 6: 12, 7: 14, 8: 16, 9: 18, 10: 20}"
      ]
     },
     "execution_count": 29,
     "metadata": {},
     "output_type": "execute_result"
    }
   ],
   "source": [
    "d={i:i*2 for i in range(1,11)}\n",
    "d"
   ]
  },
  {
   "cell_type": "code",
   "execution_count": 24,
   "id": "962e5b4c",
   "metadata": {},
   "outputs": [
    {
     "data": {
      "text/plain": [
       "{'o': 3, 'p': 3, 'i': 1, 'c': 2}"
      ]
     },
     "execution_count": 24,
     "metadata": {},
     "output_type": "execute_result"
    }
   ],
   "source": [
    "li=['o','o','o','p','p','p','i','c','c']\n",
    "{i:li.count(i)for i in li}"
   ]
  },
  {
   "cell_type": "code",
   "execution_count": null,
   "id": "15a44b81",
   "metadata": {},
   "outputs": [],
   "source": [
    "#{0:A 1:B 2:c 3:D}\n",
    "d="
   ]
  },
  {
   "cell_type": "code",
   "execution_count": 30,
   "id": "e5da14cf",
   "metadata": {},
   "outputs": [
    {
     "data": {
      "text/plain": [
       "{'anil': 4, 'vinni': 5, 'pedhanana': 9, 'pedhama': 7}"
      ]
     },
     "execution_count": 30,
     "metadata": {},
     "output_type": "execute_result"
    }
   ],
   "source": [
    "names=['anil','vinni','pedhanana','pedhama']\n",
    "d={i:len(i)for i in names}\n",
    "d"
   ]
  },
  {
   "cell_type": "markdown",
   "id": "e1bcde63",
   "metadata": {},
   "source": [
    "### iterators and generators\n",
    "- iterator:iter is an object in python.it contains no elements\n",
    "- 2 methods\n",
    "     - iter\n",
    "     - next\n",
    "- list,set,tuple,dict,these all are iterable objects\n"
   ]
  },
  {
   "cell_type": "markdown",
   "id": "229cfba9",
   "metadata": {},
   "source": [
    "### generator\n",
    "- genereator can be used to either functions or comprehensions\n",
    "- it returns a iterator or objects\n",
    "- in generator 'YEILD' can be used in the place of return"
   ]
  },
  {
   "cell_type": "code",
   "execution_count": 31,
   "id": "f33d9c2b",
   "metadata": {},
   "outputs": [
    {
     "data": {
      "text/plain": [
       "'e'"
      ]
     },
     "execution_count": 31,
     "metadata": {},
     "output_type": "execute_result"
    }
   ],
   "source": [
    "def python():\n",
    "    return 'e'\n",
    "    print('place')\n",
    "python()"
   ]
  },
  {
   "cell_type": "code",
   "execution_count": null,
   "id": "40e8ca4e",
   "metadata": {},
   "outputs": [],
   "source": [
    "def python():\n",
    "    yield 'mango'\n",
    "    yield 'program'\n",
    "    yield 'sdc'"
   ]
  },
  {
   "cell_type": "markdown",
   "id": "8b240574",
   "metadata": {},
   "source": [
    "### functional programing\n",
    "- lambda\n",
    "- map\n",
    "- filter\n",
    "- reduce"
   ]
  },
  {
   "cell_type": "markdown",
   "id": "5cf4a26f",
   "metadata": {},
   "source": [
    "### lambda\n",
    "- anonymous functions or single line function\n",
    "- single expression,no.of arguments\n",
    "- syntax::lambda"
   ]
  },
  {
   "cell_type": "code",
   "execution_count": null,
   "id": "f78cde0f",
   "metadata": {},
   "outputs": [],
   "source": []
  }
 ],
 "metadata": {
  "kernelspec": {
   "display_name": "Python 3 (ipykernel)",
   "language": "python",
   "name": "python3"
  },
  "language_info": {
   "codemirror_mode": {
    "name": "ipython",
    "version": 3
   },
   "file_extension": ".py",
   "mimetype": "text/x-python",
   "name": "python",
   "nbconvert_exporter": "python",
   "pygments_lexer": "ipython3",
   "version": "3.9.7"
  }
 },
 "nbformat": 4,
 "nbformat_minor": 5
}
